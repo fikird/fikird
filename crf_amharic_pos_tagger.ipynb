{
  "metadata": {
    "kernelspec": {
      "language": "python",
      "display_name": "Python 3",
      "name": "python3"
    },
    "language_info": {
      "name": "python",
      "version": "3.10.14",
      "mimetype": "text/x-python",
      "codemirror_mode": {
        "name": "ipython",
        "version": 3
      },
      "pygments_lexer": "ipython3",
      "nbconvert_exporter": "python",
      "file_extension": ".py"
    },
    "kaggle": {
      "accelerator": "none",
      "dataSources": [
        {
          "sourceId": 9686217,
          "sourceType": "datasetVersion",
          "datasetId": 5921248
        }
      ],
      "dockerImageVersionId": 30786,
      "isInternetEnabled": true,
      "language": "python",
      "sourceType": "notebook",
      "isGpuEnabled": false
    },
    "colab": {
      "name": "crf_amharic_pos_tagger",
      "provenance": [],
      "include_colab_link": true
    }
  },
  "nbformat_minor": 0,
  "nbformat": 4,
  "cells": [
    {
      "cell_type": "markdown",
      "metadata": {
        "id": "view-in-github",
        "colab_type": "text"
      },
      "source": [
        "<a href=\"https://colab.research.google.com/github/fikird/fikird/blob/main/crf_amharic_pos_tagger.ipynb\" target=\"_parent\"><img src=\"https://colab.research.google.com/assets/colab-badge.svg\" alt=\"Open In Colab\"/></a>"
      ]
    },
    {
      "cell_type": "code",
      "source": [
        "train_data = pd.read_csv('/content/train_set.tsv', sep='\\t')\n",
        "test_data = pd.read_csv('/content/test_set.tsv', sep='\\t')\n",
        "dev_data = pd.read_csv('/content/dev_set.tsv', sep='\\t')\n"
      ],
      "metadata": {
        "jupyter": {
          "source_hidden": true
        },
        "execution": {
          "iopub.status.busy": "2024-10-23T18:49:52.648373Z",
          "iopub.execute_input": "2024-10-23T18:49:52.64885Z",
          "iopub.status.idle": "2024-10-23T18:49:52.989983Z",
          "shell.execute_reply.started": "2024-10-23T18:49:52.648798Z",
          "shell.execute_reply": "2024-10-23T18:49:52.988672Z"
        },
        "trusted": true,
        "id": "3cAvWvjIB5F7"
      },
      "execution_count": null,
      "outputs": []
    },
    {
      "cell_type": "code",
      "source": [
        "train_data.loc[0]=['ስህፈት','N']\n",
        "dev_data.loc[0]=['ወደእነዚያ','PRONP']\n",
        "test_data.loc[0]=['አላህ','N']"
      ],
      "metadata": {
        "jupyter": {
          "source_hidden": true
        },
        "execution": {
          "iopub.status.busy": "2024-10-23T18:49:52.992624Z",
          "iopub.execute_input": "2024-10-23T18:49:52.993164Z",
          "iopub.status.idle": "2024-10-23T18:49:53.001325Z",
          "shell.execute_reply.started": "2024-10-23T18:49:52.993113Z",
          "shell.execute_reply": "2024-10-23T18:49:52.999641Z"
        },
        "trusted": true,
        "id": "BNSurR0dB5F8"
      },
      "execution_count": null,
      "outputs": []
    },
    {
      "cell_type": "code",
      "source": [
        "train_data.columns=['Word','Tag']\n",
        "test_data.columns=['Word','Tag']\n",
        "dev_data.columns=['Word','Tag']"
      ],
      "metadata": {
        "jupyter": {
          "source_hidden": true
        },
        "execution": {
          "iopub.status.busy": "2024-10-23T18:49:53.058528Z",
          "iopub.execute_input": "2024-10-23T18:49:53.058945Z",
          "iopub.status.idle": "2024-10-23T18:49:53.06618Z",
          "shell.execute_reply.started": "2024-10-23T18:49:53.058906Z",
          "shell.execute_reply": "2024-10-23T18:49:53.064557Z"
        },
        "trusted": true,
        "id": "j_Cc4ffFB5F9"
      },
      "execution_count": null,
      "outputs": []
    },
    {
      "cell_type": "markdown",
      "source": [
        "creates features or columns"
      ],
      "metadata": {
        "id": "4au4KzA2B5F9"
      }
    },
    {
      "cell_type": "code",
      "source": [
        "def word_features(sent, i):\n",
        "    \"\"\"\n",
        "    Extract features from a given sentence at index i.\n",
        "\n",
        "    Args:\n",
        "        sent (list): A list of tuples where each tuple contains (word, pos_tag).\n",
        "        i (int): The index of the word in the sentence to extract features for.\n",
        "        tagger (CRFTagger): An instance of a CRFTagger.\n",
        "\n",
        "    Returns:\n",
        "        dict: A dictionary containing various features of the word at index i.\n",
        "    \"\"\"\n",
        "    word = sent['Word'][i]\n",
        "    pos = sent['Tag'][i]\n",
        "\n",
        "    # First word\n",
        "    if i == 0:\n",
        "        prevword = '<START>'\n",
        "        prevpos = '<START>'\n",
        "    else:\n",
        "        prevword = sent['Word'][i - 1]\n",
        "        prevpos = sent['Tag'][i - 1]\n",
        "\n",
        "    # Second word\n",
        "    if i == 0 or i == 1:\n",
        "        prev2word = '<START>'\n",
        "        prev2pos = '<START>'\n",
        "    else:\n",
        "        prev2word = sent['Word'][i - 2]\n",
        "        prev2pos = sent['Tag'][i - 2]\n",
        "\n",
        "    # Last word\n",
        "    if i == len(sent) - 1:\n",
        "        nextword = '<END>'\n",
        "        nextpos = '<END>'\n",
        "    else:\n",
        "        nextword = sent['Word'][i + 1]\n",
        "        nextpos = sent['Tag'][i + 1]\n",
        "\n",
        "    return {\n",
        "        'word': word,\n",
        "        'pos': pos,  # Include the POS tag as a feature\n",
        "        'prevword': prevword,\n",
        "        'prevpos': prevpos,\n",
        "        'nextword': nextword,\n",
        "        'nextpos': nextpos,\n",
        "        'prev2word': prev2word,\n",
        "        'prev2pos': prev2pos,\n",
        "    }\n",
        "def extract(dataset):\n",
        "    \"\"\"\n",
        "    Extract features for each sentence in the dataset.\n",
        "\n",
        "    Args:\n",
        "        dataset (pd.DataFrame): The dataset containing the sentences.\n",
        "\n",
        "    Returns:\n",
        "        list: A list of dictionaries, where each dictionary contains the features for a sentence.\n",
        "    \"\"\"\n",
        "    features = []\n",
        "    for i in  range(len(dataset)):\n",
        "        features.append(word_features(dataset, i))\n",
        "    return features"
      ],
      "metadata": {
        "execution": {
          "iopub.status.busy": "2024-10-23T18:49:53.117335Z",
          "iopub.execute_input": "2024-10-23T18:49:53.117805Z",
          "iopub.status.idle": "2024-10-23T18:49:53.127947Z",
          "shell.execute_reply.started": "2024-10-23T18:49:53.117756Z",
          "shell.execute_reply": "2024-10-23T18:49:53.126871Z"
        },
        "trusted": true,
        "id": "P809J67WB5F-"
      },
      "execution_count": null,
      "outputs": []
    },
    {
      "cell_type": "code",
      "source": [
        "val=extract( train_data)\n",
        "test=extract(dev_data)\n",
        "train=extract(test_data)"
      ],
      "metadata": {
        "execution": {
          "iopub.status.busy": "2024-10-23T18:49:53.457568Z",
          "iopub.execute_input": "2024-10-23T18:49:53.458238Z",
          "iopub.status.idle": "2024-10-23T18:50:19.858668Z",
          "shell.execute_reply.started": "2024-10-23T18:49:53.458197Z",
          "shell.execute_reply": "2024-10-23T18:50:19.857362Z"
        },
        "trusted": true,
        "id": "rql6Ew8wB5F-"
      },
      "execution_count": null,
      "outputs": []
    },
    {
      "cell_type": "markdown",
      "source": [
        "splits x and y"
      ],
      "metadata": {
        "id": "wW2BjBrhB5F_"
      }
    },
    {
      "cell_type": "code",
      "source": [
        "def xy(data):\n",
        "    X=[]\n",
        "    y=[]\n",
        "    for features in data:\n",
        "        X.append({key: value for key, value in features.items() if key != 'pos'})\n",
        "        y.append(features['pos'])\n",
        "#     y = [{label} for label in y]\n",
        "    return X, y"
      ],
      "metadata": {
        "execution": {
          "iopub.status.busy": "2024-10-23T18:50:19.860752Z",
          "iopub.execute_input": "2024-10-23T18:50:19.861139Z",
          "iopub.status.idle": "2024-10-23T18:50:19.868378Z",
          "shell.execute_reply.started": "2024-10-23T18:50:19.861101Z",
          "shell.execute_reply": "2024-10-23T18:50:19.867086Z"
        },
        "trusted": true,
        "id": "hac0LJbKB5F_"
      },
      "execution_count": null,
      "outputs": []
    },
    {
      "cell_type": "code",
      "source": [
        "val_X, val_y=xy(val)\n",
        "test_X,test_y=xy(test)\n",
        "train_X,train_y=xy(train)"
      ],
      "metadata": {
        "execution": {
          "iopub.status.busy": "2024-10-23T18:50:19.870297Z",
          "iopub.execute_input": "2024-10-23T18:50:19.87082Z",
          "iopub.status.idle": "2024-10-23T18:50:20.719604Z",
          "shell.execute_reply.started": "2024-10-23T18:50:19.870766Z",
          "shell.execute_reply": "2024-10-23T18:50:20.718465Z"
        },
        "trusted": true,
        "id": "XMFRvkspB5F_"
      },
      "execution_count": null,
      "outputs": []
    },
    {
      "cell_type": "markdown",
      "source": [
        "make list of lists of features"
      ],
      "metadata": {
        "id": "y6cME-bIB5GA"
      }
    },
    {
      "cell_type": "code",
      "source": [
        "def prepare_data(data, labels):\n",
        "    features = []\n",
        "    label_sequences = []\n",
        "\n",
        "    current_features = []\n",
        "    current_labels = []\n",
        "    for i in range(len(data)):\n",
        "        # Create feature dictionary\n",
        "        feature_dict = {\n",
        "            'word': data[i]['word'],\n",
        "            'prevword': data[i]['prevword'],\n",
        "            'nextword': data[i]['nextword'],\n",
        "            'prevpos': data[i]['prevpos'],\n",
        "            'nextpos': data[i]['nextpos'],\n",
        "            'prev2word': data[i]['prev2word'],\n",
        "            'prev2pos': data[i]['prev2pos']\n",
        "        }\n",
        "\n",
        "        current_features.append(feature_dict)\n",
        "\n",
        "        # Append the corresponding tag (label)\n",
        "        if i < len(labels):\n",
        "            current_labels.append(labels[i])\n",
        "\n",
        "        # If it's the last token or end of sentence condition is met, save the sequence\n",
        "        if i == len(data) - 1 or data[i + 1]['nextword'] == '<END>':\n",
        "            features.append(current_features)\n",
        "            label_sequences.append(current_labels)\n",
        "            current_features = []\n",
        "            current_labels = []\n",
        "\n",
        "    return features, label_sequences\n",
        "\n",
        "# Prepare your data\n",
        "train_X, train_y = prepare_data(train_X, train_y)\n",
        "test_X, test_y = prepare_data(test_X, test_y)\n",
        "val_X, val_y = prepare_data(val_X, val_y)\n",
        "# Now X is a list of lists of feature dictionaries, and y is a list of lists of labels"
      ],
      "metadata": {
        "execution": {
          "iopub.status.busy": "2024-10-23T18:50:20.721246Z",
          "iopub.execute_input": "2024-10-23T18:50:20.721822Z",
          "iopub.status.idle": "2024-10-23T18:50:21.510823Z",
          "shell.execute_reply.started": "2024-10-23T18:50:20.721776Z",
          "shell.execute_reply": "2024-10-23T18:50:21.509878Z"
        },
        "trusted": true,
        "id": "h0jBIFDPB5GA"
      },
      "execution_count": null,
      "outputs": []
    },
    {
      "cell_type": "markdown",
      "source": [
        "# declare a crf model"
      ],
      "metadata": {
        "id": "DucfqOXHB5GA"
      }
    },
    {
      "cell_type": "code",
      "source": [
        "import sklearn_crfsuite\n",
        "\n",
        "# Initialize the CRF model\n",
        "crf = sklearn_crfsuite.CRF(\n",
        "    algorithm='lbfgs',\n",
        "    c1=0.1,\n",
        "    c2=0.1,\n",
        "    max_iterations=100,\n",
        "    all_possible_transitions=True\n",
        ")"
      ],
      "metadata": {
        "execution": {
          "iopub.status.busy": "2024-10-23T18:50:21.513019Z",
          "iopub.execute_input": "2024-10-23T18:50:21.513402Z",
          "iopub.status.idle": "2024-10-23T18:50:21.54039Z",
          "shell.execute_reply.started": "2024-10-23T18:50:21.513364Z",
          "shell.execute_reply": "2024-10-23T18:50:21.538937Z"
        },
        "trusted": true,
        "id": "fGzBv37fB5GA",
        "outputId": "436bfb3a-e4bb-40f6-bdd4-f6522a697136"
      },
      "execution_count": null,
      "outputs": [
        {
          "traceback": [
            "\u001b[0;31m---------------------------------------------------------------------------\u001b[0m",
            "\u001b[0;31mModuleNotFoundError\u001b[0m                       Traceback (most recent call last)",
            "Cell \u001b[0;32mIn[16], line 1\u001b[0m\n\u001b[0;32m----> 1\u001b[0m \u001b[38;5;28;01mimport\u001b[39;00m \u001b[38;5;21;01msklearn_crfsuite\u001b[39;00m\n\u001b[1;32m      3\u001b[0m \u001b[38;5;66;03m# Initialize the CRF model\u001b[39;00m\n\u001b[1;32m      4\u001b[0m crf \u001b[38;5;241m=\u001b[39m sklearn_crfsuite\u001b[38;5;241m.\u001b[39mCRF(\n\u001b[1;32m      5\u001b[0m     algorithm\u001b[38;5;241m=\u001b[39m\u001b[38;5;124m'\u001b[39m\u001b[38;5;124mlbfgs\u001b[39m\u001b[38;5;124m'\u001b[39m,\n\u001b[1;32m      6\u001b[0m     c1\u001b[38;5;241m=\u001b[39m\u001b[38;5;241m0.1\u001b[39m,\n\u001b[0;32m   (...)\u001b[0m\n\u001b[1;32m      9\u001b[0m     all_possible_transitions\u001b[38;5;241m=\u001b[39m\u001b[38;5;28;01mTrue\u001b[39;00m\n\u001b[1;32m     10\u001b[0m )\n",
            "\u001b[0;31mModuleNotFoundError\u001b[0m: No module named 'sklearn_crfsuite'"
          ],
          "ename": "ModuleNotFoundError",
          "evalue": "No module named 'sklearn_crfsuite'",
          "output_type": "error"
        }
      ]
    },
    {
      "cell_type": "markdown",
      "source": [
        "# train"
      ],
      "metadata": {
        "id": "wdPAn8NuB5GB"
      }
    },
    {
      "cell_type": "code",
      "source": [
        "crf.fit(train_X, train_y)"
      ],
      "metadata": {
        "execution": {
          "iopub.status.busy": "2024-10-23T18:50:21.541326Z",
          "iopub.status.idle": "2024-10-23T18:50:21.541769Z",
          "shell.execute_reply.started": "2024-10-23T18:50:21.541545Z",
          "shell.execute_reply": "2024-10-23T18:50:21.541565Z"
        },
        "trusted": true,
        "id": "Rm39uIyLB5GB"
      },
      "execution_count": null,
      "outputs": []
    },
    {
      "cell_type": "markdown",
      "source": [
        "# validation and testing"
      ],
      "metadata": {
        "id": "7CKcbNNYB5GB"
      }
    },
    {
      "cell_type": "code",
      "source": [
        "# Validate on validation set (if applicable)\n",
        "y_val_pred = crf.predict([val_X])  # Ensure this is structured correctly\n",
        "\n",
        "# Evaluate performance using F1 score\n",
        "from sklearn_crfsuite import metrics\n",
        "\n",
        "f1_score = metrics.flat_f1_score(val_y, y_val_pred, average='weighted')\n",
        "print(f\"Validation F1 Score: {f1_score:.4f}\")\n",
        "\n",
        "# Test on test set\n",
        "y_test_pred = crf.predict([test_X])  # Ensure this is structured correctly\n",
        "\n",
        "# Evaluate performance on test set\n",
        "test_f1_score = metrics.flat_f1_score(test_y, y_test_pred, average='weighted')\n",
        "print(f\"Test F1 Score: {test_f1_score:.4f}\")"
      ],
      "metadata": {
        "execution": {
          "iopub.status.busy": "2024-10-23T18:50:21.544019Z",
          "iopub.status.idle": "2024-10-23T18:50:21.544505Z",
          "shell.execute_reply.started": "2024-10-23T18:50:21.544296Z",
          "shell.execute_reply": "2024-10-23T18:50:21.54432Z"
        },
        "trusted": true,
        "id": "uKTWPGUcB5GC"
      },
      "execution_count": null,
      "outputs": []
    },
    {
      "cell_type": "markdown",
      "source": [
        "# rendomized search for parameters"
      ],
      "metadata": {
        "id": "FQZL4lZoB5GC"
      }
    },
    {
      "cell_type": "code",
      "source": [
        "from sklearn.model_selection import RandomizedSearchCV\n",
        "\n",
        "params_space = {\n",
        "    'c1': scipy.stats.expon(scale=0.5),\n",
        "    'c2': scipy.stats.expon(scale=0.05),\n",
        "}\n",
        "\n",
        "f1_scorer = make_scorer(flat_f1_score, average='weighted')\n",
        "\n",
        "rs = RandomizedSearchCV(crf, params_space, cv=3, scoring=f1_scorer)\n",
        "rs.fit()"
      ],
      "metadata": {
        "execution": {
          "iopub.status.busy": "2024-10-23T18:50:21.545881Z",
          "iopub.status.idle": "2024-10-23T18:50:21.546439Z",
          "shell.execute_reply.started": "2024-10-23T18:50:21.546153Z",
          "shell.execute_reply": "2024-10-23T18:50:21.546183Z"
        },
        "trusted": true,
        "id": "8H33lh73B5GC"
      },
      "execution_count": null,
      "outputs": []
    }
  ]
}